{
 "cells": [
  {
   "cell_type": "code",
   "execution_count": 5,
   "id": "7bc5953b",
   "metadata": {
    "ExecuteTime": {
     "end_time": "2021-11-04T07:53:45.893734Z",
     "start_time": "2021-11-04T07:53:45.759505Z"
    }
   },
   "outputs": [],
   "source": [
    "from bs4 import BeautifulSoup\n",
    "import numpy as np\n",
    "import pandas as pd\n",
    "import requests"
   ]
  },
  {
   "cell_type": "code",
   "execution_count": 6,
   "id": "02ca4b42",
   "metadata": {
    "ExecuteTime": {
     "end_time": "2021-11-04T07:53:46.162984Z",
     "start_time": "2021-11-04T07:53:46.158905Z"
    }
   },
   "outputs": [],
   "source": [
    "url = \"https://www.sahibinden.com/ilan/emlak-konut-satilik-urla-kalabak-kapanmayacak-manzarali-emsalsiz-mulk-808449106/detay\""
   ]
  },
  {
   "cell_type": "code",
   "execution_count": null,
   "id": "40f34a05",
   "metadata": {
    "ExecuteTime": {
     "start_time": "2021-11-04T07:53:46.645Z"
    }
   },
   "outputs": [],
   "source": [
    "html = requests.get(url)\n",
    "html = html.content"
   ]
  },
  {
   "cell_type": "markdown",
   "id": "d0124596",
   "metadata": {},
   "source": [
    "# get_sahibinden_record"
   ]
  },
  {
   "cell_type": "code",
   "execution_count": 41,
   "id": "95188c75",
   "metadata": {
    "ExecuteTime": {
     "end_time": "2021-08-18T08:20:09.591847Z",
     "start_time": "2021-08-18T08:20:09.579629Z"
    }
   },
   "outputs": [],
   "source": [
    "def ConvertStringToList(string):\n",
    "    li = list(string.split(\" \"))\n",
    "    return li\n",
    "\n",
    "def get_sahibinden_link(html):\n",
    "    soup = BeautifulSoup(html, features=\"lxml\") \n",
    "    url = soup.find('link', {'rel': 'alternate'})['href']\n",
    "    return(url)\n",
    "\n",
    "def get_sahibinden_record(html):\n",
    "    record = {}\n",
    "    soup = BeautifulSoup(html, features=\"lxml\")\n",
    "    soup = soup.find(id = \"classifiedDetail\")\n",
    "    \n",
    "    record[\"İlan\"] = soup.find('h1').text\n",
    "    \n",
    "    fiyatBilgisi = soup.find('h3').text.strip()\n",
    "    fiyatBilgisi = ConvertStringToList(fiyatBilgisi)\n",
    "    \n",
    "    M2fiyatBilgisi = soup.find('h4')\n",
    "    \n",
    "    detailKeys = soup.find('ul',class_='classifiedInfoList').find_all('strong')\n",
    "    Keys = [detail.text.strip() for detail in detailKeys]\n",
    "        \n",
    "    detailValues = soup.find('ul',class_='classifiedInfoList').find_all('span')\n",
    "    Values = [detail.text.strip() for detail in detailValues]\n",
    "        \n",
    "    record.update(dict(zip(Keys,Values)))\n",
    "    record[\"Fiyat\"] = fiyatBilgisi[0]\n",
    "        \n",
    "    if M2fiyatBilgisi == None:\n",
    "        \n",
    "        record[\"URL\"] = get_sahibinden_link(html)\n",
    "        \n",
    "        record = pd.Series(record)\n",
    "        record = record.to_frame()\n",
    "        record = record.T\n",
    "        \n",
    "    else:\n",
    "        M2fiyatBilgisi = soup.find('h4').text.strip()\n",
    "        M2fiyatBilgisi = ConvertStringToList(M2fiyatBilgisi)\n",
    "        \n",
    "        record[\"M2 Fiyatı\"] = M2fiyatBilgisi[2] + \" \" + M2fiyatBilgisi[3]\n",
    "        record[\"URL\"] = get_sahibinden_link(html)\n",
    "        \n",
    "        record = pd.Series(record)\n",
    "        record = record.to_frame()\n",
    "        record = record.T\n",
    "        \n",
    "    return(record)"
   ]
  },
  {
   "cell_type": "code",
   "execution_count": 42,
   "id": "ebd62bab",
   "metadata": {
    "ExecuteTime": {
     "end_time": "2021-08-18T08:20:09.976802Z",
     "start_time": "2021-08-18T08:20:09.831655Z"
    }
   },
   "outputs": [
    {
     "data": {
      "text/html": [
       "<div>\n",
       "<style scoped>\n",
       "    .dataframe tbody tr th:only-of-type {\n",
       "        vertical-align: middle;\n",
       "    }\n",
       "\n",
       "    .dataframe tbody tr th {\n",
       "        vertical-align: top;\n",
       "    }\n",
       "\n",
       "    .dataframe thead th {\n",
       "        text-align: right;\n",
       "    }\n",
       "</style>\n",
       "<table border=\"1\" class=\"dataframe\">\n",
       "  <thead>\n",
       "    <tr style=\"text-align: right;\">\n",
       "      <th></th>\n",
       "      <th>İlan</th>\n",
       "      <th>Ad</th>\n",
       "      <th>Ad Date</th>\n",
       "      <th>Category</th>\n",
       "      <th>Type</th>\n",
       "      <th>Subtype</th>\n",
       "      <th>Brand</th>\n",
       "      <th>Year</th>\n",
       "      <th>Km</th>\n",
       "      <th>Vites</th>\n",
       "      <th>Capacity (Bed)</th>\n",
       "      <th>From</th>\n",
       "      <th>Exchangeable</th>\n",
       "      <th>Condition</th>\n",
       "      <th>Fiyat</th>\n",
       "      <th>URL</th>\n",
       "    </tr>\n",
       "  </thead>\n",
       "  <tbody>\n",
       "    <tr>\n",
       "      <th>0</th>\n",
       "      <td>ULTRA CARAVANS FARKI İLE TAM DONANIMLI MOTOKAR...</td>\n",
       "      <td>937344795</td>\n",
       "      <td>10 July 2021</td>\n",
       "      <td>Campervan, Caravan &amp; RV</td>\n",
       "      <td>Motorhomes</td>\n",
       "      <td>Panelvan (Camper)</td>\n",
       "      <td>Peugeot</td>\n",
       "      <td>2015</td>\n",
       "      <td>120.000</td>\n",
       "      <td>Manuel</td>\n",
       "      <td>2</td>\n",
       "      <td>Store</td>\n",
       "      <td>Yes</td>\n",
       "      <td>Used</td>\n",
       "      <td>428,000</td>\n",
       "      <td>https://www.sahibinden.com/ilan/vasita-karavan...</td>\n",
       "    </tr>\n",
       "  </tbody>\n",
       "</table>\n",
       "</div>"
      ],
      "text/plain": [
       "                                                İlan         Ad       Ad Date  \\\n",
       "0  ULTRA CARAVANS FARKI İLE TAM DONANIMLI MOTOKAR...  937344795  10 July 2021   \n",
       "\n",
       "                  Category        Type            Subtype    Brand  Year  \\\n",
       "0  Campervan, Caravan & RV  Motorhomes  Panelvan (Camper)  Peugeot  2015   \n",
       "\n",
       "        Km   Vites Capacity (Bed)   From Exchangeable Condition    Fiyat  \\\n",
       "0  120.000  Manuel              2  Store          Yes      Used  428,000   \n",
       "\n",
       "                                                 URL  \n",
       "0  https://www.sahibinden.com/ilan/vasita-karavan...  "
      ]
     },
     "execution_count": 42,
     "metadata": {},
     "output_type": "execute_result"
    }
   ],
   "source": [
    "get_sahibinden_record(html)"
   ]
  },
  {
   "cell_type": "code",
   "execution_count": 43,
   "id": "057ea178",
   "metadata": {
    "ExecuteTime": {
     "end_time": "2021-08-18T08:20:32.951750Z",
     "start_time": "2021-08-18T08:20:32.662074Z"
    }
   },
   "outputs": [],
   "source": [
    "df = get_sahibinden_record(html)\n",
    "df2 = get_sahibinden_record(html)\n",
    "\n",
    "with pd.ExcelWriter('record.xlsx') as writer: \n",
    "    \n",
    "    if \"KM\" or \"Km\" in get_sahibinden_record(html).keys():\n",
    "        df.to_excel(writer, sheet_name='Araç') \n",
    "        \n",
    "    elif \"M2 Fiyatı\" in get_sahibinden_record(html).keys():\n",
    "        df2.to_excel(writer, sheet_name='Arazi') \n",
    "        \n",
    "    else:\n",
    "        df.to_excel(writer, sheet_name='Sheet') \n",
    "    "
   ]
  }
 ],
 "metadata": {
  "kernelspec": {
   "display_name": "Python 3",
   "language": "python",
   "name": "python3"
  },
  "language_info": {
   "codemirror_mode": {
    "name": "ipython",
    "version": 3
   },
   "file_extension": ".py",
   "mimetype": "text/x-python",
   "name": "python",
   "nbconvert_exporter": "python",
   "pygments_lexer": "ipython3",
   "version": "3.8.2"
  },
  "toc": {
   "base_numbering": 1,
   "nav_menu": {},
   "number_sections": true,
   "sideBar": true,
   "skip_h1_title": false,
   "title_cell": "Table of Contents",
   "title_sidebar": "Contents",
   "toc_cell": false,
   "toc_position": {},
   "toc_section_display": true,
   "toc_window_display": false
  },
  "varInspector": {
   "cols": {
    "lenName": 16,
    "lenType": 16,
    "lenVar": 40
   },
   "kernels_config": {
    "python": {
     "delete_cmd_postfix": "",
     "delete_cmd_prefix": "del ",
     "library": "var_list.py",
     "varRefreshCmd": "print(var_dic_list())"
    },
    "r": {
     "delete_cmd_postfix": ") ",
     "delete_cmd_prefix": "rm(",
     "library": "var_list.r",
     "varRefreshCmd": "cat(var_dic_list()) "
    }
   },
   "types_to_exclude": [
    "module",
    "function",
    "builtin_function_or_method",
    "instance",
    "_Feature"
   ],
   "window_display": false
  }
 },
 "nbformat": 4,
 "nbformat_minor": 5
}
